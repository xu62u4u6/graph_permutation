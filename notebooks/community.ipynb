{
 "cells": [
  {
   "cell_type": "code",
   "execution_count": 2,
   "metadata": {},
   "outputs": [],
   "source": [
    "import pandas as pd \n",
    "import numpy as np \n",
    "import networkx as nx\n",
    "from tqdm import tqdm\n",
    "import seaborn as sns\n",
    "import matplotlib.pyplot as plt\n",
    "import os\n",
    "os.chdir(\"/home/blue/code/graph_permutation\")"
   ]
  },
  {
   "cell_type": "code",
   "execution_count": 3,
   "metadata": {},
   "outputs": [],
   "source": [
    "edges_df = pd.read_csv(\"data/edges.csv\", index_col=0)\n",
    "node_df = pd.read_csv(\"data/nodes.csv\")\n",
    "base_graph = nx.Graph()\n",
    "base_graph.add_edges_from(zip(edges_df.src, edges_df.dst))\n",
    "n_nodes = len(base_graph.nodes)\n",
    "n_edges = len(base_graph.edges)\n",
    "cancer_proteins = node_df[node_df.is_cancer_protein].node_name"
   ]
  },
  {
   "cell_type": "code",
   "execution_count": 4,
   "metadata": {},
   "outputs": [],
   "source": [
    "cancer_one_hop_set = set()\n",
    "for cancer_protein in cancer_proteins:\n",
    "    neighbors = set(dict(base_graph[cancer_protein]).keys())\n",
    "    cancer_one_hop_set = cancer_one_hop_set.union(neighbors)"
   ]
  },
  {
   "cell_type": "code",
   "execution_count": 5,
   "metadata": {},
   "outputs": [
    {
     "data": {
      "text/plain": [
       "5231092"
      ]
     },
     "execution_count": 5,
     "metadata": {},
     "output_type": "execute_result"
    }
   ],
   "source": [
    "# K-3 motif\n",
    "cancer_one_hop_subgraph = base_graph.subgraph(cancer_one_hop_set)\n",
    "cancer_one_hop_arr = np.array(cancer_one_hop_subgraph.nodes)\n",
    "cancer_proteins_in_subnetwork = cancer_proteins[cancer_proteins.isin(cancer_one_hop_arr)]\n",
    "count = 0\n",
    "motif_list = []\n",
    "for n1 in cancer_proteins_in_subnetwork:\n",
    "    for n2 in cancer_one_hop_subgraph[n1]:\n",
    "        for n3 in cancer_one_hop_subgraph[n2]:\n",
    "            if n1 in cancer_one_hop_subgraph[n3]:\n",
    "                motif_list.append((n1, n2, n3))\n",
    "                count += 1\n",
    "count"
   ]
  },
  {
   "cell_type": "code",
   "execution_count": 6,
   "metadata": {},
   "outputs": [],
   "source": [
    "# 去除重複的 A-B-C = A-C-B 利用set完成排序後去除\n",
    "deduplicate_motif_list = set([tuple(set(motif)) for motif in motif_list])\n",
    "motif_df = pd.DataFrame(deduplicate_motif_list, columns=[\"n1\", \"n2\", \"n3\"])\n",
    "motif_df.head()\n",
    "motif_df.to_csv(\"output/motif.csv\")"
   ]
  },
  {
   "cell_type": "code",
   "execution_count": 7,
   "metadata": {},
   "outputs": [],
   "source": [
    "# motif 的邊列表\n",
    "motif_edges_df = pd.DataFrame(columns=[\"n1n2\", \"n2n3\", \"n3n1\"])\n",
    "motif_edges_df[\"n1n2\"] = motif_df.n1 + \"-\" + motif_df.n2 \n",
    "motif_edges_df[\"n2n3\"] = motif_df.n2 + \"-\" + motif_df.n3\n",
    "motif_edges_df[\"n3n1\"] = motif_df.n3 + \"-\" + motif_df.n1 \n",
    "motif_edges_df.to_csv(\"output/motif_edges_df.csv\")"
   ]
  },
  {
   "cell_type": "code",
   "execution_count": 9,
   "metadata": {},
   "outputs": [
    {
     "data": {
      "image/png": "[encoded data removed]",
      "text/plain": [
       "<Figure size 640x480 with 1 Axes>"
      ]
     },
     "metadata": {},
     "output_type": "display_data"
    }
   ],
   "source": [
    "# 查看k-3 motif 的不同模式數量並繪圖\n",
    "motif_df[\"is_cancer_count\"] = motif_df.isin(cancer_proteins.values).sum(axis=1)\n",
    "size = motif_df.groupby(\"is_cancer_count\").size()\n",
    "\n",
    "ax = sns.barplot(size)\n",
    "for p in ax.patches:\n",
    "    ax.annotate(f'{p.get_height()}', (p.get_x() + p.get_width() / 2., p.get_height()*0.98),\n",
    "                ha='center', va='center', xytext=(0, 10), textcoords='offset points')\n"
   ]
  },
  {
   "cell_type": "code",
   "execution_count": 77,
   "metadata": {},
   "outputs": [],
   "source": [
    "result_dict = {}\n",
    "for i in motif_df.index:\n",
    "    result_dict[i] = []"
   ]
  },
  {
   "cell_type": "code",
   "execution_count": 12,
   "metadata": {},
   "outputs": [],
   "source": [
    "import json"
   ]
  },
  {
   "cell_type": "code",
   "execution_count": 19,
   "metadata": {},
   "outputs": [
    {
     "name": "stdout",
     "output_type": "stream",
     "text": [
      "0,1,"
     ]
    }
   ],
   "source": [
    "n_permutation = 1000\n",
    "node_dict = node_df.node_name.to_dict()\n",
    "#result_df = pd.DataFrame(index=motif_df.index)\n",
    "\n",
    "result_dict = {}\n",
    "for i in motif_edges_df.index:\n",
    "    result_dict[i] = []\n",
    "\n",
    "n_permutation = 2\n",
    "for i in range(n_permutation):\n",
    "    print(i, end=\",\")\n",
    "    random_graph = nx.gnm_random_graph(n_nodes, n_edges)\n",
    "    random_graph = nx.relabel_nodes(random_graph, node_dict) # 重抓1-hop subgraph\n",
    "    random_one_hop_subgraph = nx.subgraph(random_graph, cancer_one_hop_set)\n",
    "    random_edge_df = pd.DataFrame(random_one_hop_subgraph.edges, columns=[\"src\", \"dst\"])\n",
    "    # random_edge_df[\"edge\"] = random_edge_df.src + \"-\" + random_edge_df.dst \n",
    "    #result_df[i] = motif_edges_df.isin(random_edge_df.edge.values).all(axis=1)\n",
    "    edge_arr = random_edge_df.src + \"-\" + random_edge_df.dst \n",
    "    mask = motif_edges_df.isin(edge_arr).all(axis=1)\n",
    "    for motif_index in motif_edges_df[mask].index:\n",
    "        result_dict[motif_index] = i\n",
    "    #if i % 100 == 0:\n",
    "    #    result_df.to_csv(f\"output/motif_permutation/result{i}.csv\")\n",
    "    #    result_df = pd.DataFrame(index=motif_df.index)\n",
    "\n",
    "with open(f\"output/result_dict.json\", 'w') as json_file:\n",
    "    json.dump(result_dict, json_file)\n",
    "\n"
   ]
  },
  {
   "cell_type": "code",
   "execution_count": 21,
   "metadata": {},
   "outputs": [
    {
     "data": {
      "text/html": [
       "<div>\n",
       "<style scoped>\n",
       "    .dataframe tbody tr th:only-of-type {\n",
       "        vertical-align: middle;\n",
       "    }\n",
       "\n",
       "    .dataframe tbody tr th {\n",
       "        vertical-align: top;\n",
       "    }\n",
       "\n",
       "    .dataframe thead th {\n",
       "        text-align: right;\n",
       "    }\n",
       "</style>\n",
       "<table border=\"1\" class=\"dataframe\">\n",
       "  <thead>\n",
       "    <tr style=\"text-align: right;\">\n",
       "      <th></th>\n",
       "      <th>n1n2</th>\n",
       "      <th>n2n3</th>\n",
       "      <th>n3n1</th>\n",
       "    </tr>\n",
       "  </thead>\n",
       "  <tbody>\n",
       "    <tr>\n",
       "      <th>0</th>\n",
       "      <td>ENSP00000418082-ENSP00000359345</td>\n",
       "      <td>ENSP00000359345-ENSP00000426167</td>\n",
       "      <td>ENSP00000426167-ENSP00000418082</td>\n",
       "    </tr>\n",
       "    <tr>\n",
       "      <th>1</th>\n",
       "      <td>ENSP00000354558-ENSP00000216442</td>\n",
       "      <td>ENSP00000216442-ENSP00000457870</td>\n",
       "      <td>ENSP00000457870-ENSP00000354558</td>\n",
       "    </tr>\n",
       "    <tr>\n",
       "      <th>2</th>\n",
       "      <td>ENSP00000384675-ENSP00000391592</td>\n",
       "      <td>ENSP00000391592-ENSP00000244007</td>\n",
       "      <td>ENSP00000244007-ENSP00000384675</td>\n",
       "    </tr>\n",
       "    <tr>\n",
       "      <th>3</th>\n",
       "      <td>ENSP00000261776-ENSP00000501150</td>\n",
       "      <td>ENSP00000501150-ENSP00000262866</td>\n",
       "      <td>ENSP00000262866-ENSP00000261776</td>\n",
       "    </tr>\n",
       "    <tr>\n",
       "      <th>4</th>\n",
       "      <td>ENSP00000430684-ENSP00000495360</td>\n",
       "      <td>ENSP00000495360-ENSP00000385216</td>\n",
       "      <td>ENSP00000385216-ENSP00000430684</td>\n",
       "    </tr>\n",
       "    <tr>\n",
       "      <th>...</th>\n",
       "      <td>...</td>\n",
       "      <td>...</td>\n",
       "      <td>...</td>\n",
       "    </tr>\n",
       "    <tr>\n",
       "      <th>2560089</th>\n",
       "      <td>ENSP00000358635-ENSP00000281043</td>\n",
       "      <td>ENSP00000281043-ENSP00000375730</td>\n",
       "      <td>ENSP00000375730-ENSP00000358635</td>\n",
       "    </tr>\n",
       "    <tr>\n",
       "      <th>2560090</th>\n",
       "      <td>ENSP00000269305-ENSP00000346027</td>\n",
       "      <td>ENSP00000346027-ENSP00000320171</td>\n",
       "      <td>ENSP00000320171-ENSP00000269305</td>\n",
       "    </tr>\n",
       "    <tr>\n",
       "      <th>2560091</th>\n",
       "      <td>ENSP00000331901-ENSP00000393596</td>\n",
       "      <td>ENSP00000393596-ENSP00000479606</td>\n",
       "      <td>ENSP00000479606-ENSP00000331901</td>\n",
       "    </tr>\n",
       "    <tr>\n",
       "      <th>2560092</th>\n",
       "      <td>ENSP00000395574-ENSP00000346027</td>\n",
       "      <td>ENSP00000346027-ENSP00000009530</td>\n",
       "      <td>ENSP00000009530-ENSP00000395574</td>\n",
       "    </tr>\n",
       "    <tr>\n",
       "      <th>2560093</th>\n",
       "      <td>ENSP00000379181-ENSP00000356448</td>\n",
       "      <td>ENSP00000356448-ENSP00000296930</td>\n",
       "      <td>ENSP00000296930-ENSP00000379181</td>\n",
       "    </tr>\n",
       "  </tbody>\n",
       "</table>\n",
       "<p>2560094 rows × 3 columns</p>\n",
       "</div>"
      ],
      "text/plain": [
       "                                    n1n2                             n2n3  \\\n",
       "0        ENSP00000418082-ENSP00000359345  ENSP00000359345-ENSP00000426167   \n",
       "1        ENSP00000354558-ENSP00000216442  ENSP00000216442-ENSP00000457870   \n",
       "2        ENSP00000384675-ENSP00000391592  ENSP00000391592-ENSP00000244007   \n",
       "3        ENSP00000261776-ENSP00000501150  ENSP00000501150-ENSP00000262866   \n",
       "4        ENSP00000430684-ENSP00000495360  ENSP00000495360-ENSP00000385216   \n",
       "...                                  ...                              ...   \n",
       "2560089  ENSP00000358635-ENSP00000281043  ENSP00000281043-ENSP00000375730   \n",
       "2560090  ENSP00000269305-ENSP00000346027  ENSP00000346027-ENSP00000320171   \n",
       "2560091  ENSP00000331901-ENSP00000393596  ENSP00000393596-ENSP00000479606   \n",
       "2560092  ENSP00000395574-ENSP00000346027  ENSP00000346027-ENSP00000009530   \n",
       "2560093  ENSP00000379181-ENSP00000356448  ENSP00000356448-ENSP00000296930   \n",
       "\n",
       "                                    n3n1  \n",
       "0        ENSP00000426167-ENSP00000418082  \n",
       "1        ENSP00000457870-ENSP00000354558  \n",
       "2        ENSP00000244007-ENSP00000384675  \n",
       "3        ENSP00000262866-ENSP00000261776  \n",
       "4        ENSP00000385216-ENSP00000430684  \n",
       "...                                  ...  \n",
       "2560089  ENSP00000375730-ENSP00000358635  \n",
       "2560090  ENSP00000320171-ENSP00000269305  \n",
       "2560091  ENSP00000479606-ENSP00000331901  \n",
       "2560092  ENSP00000009530-ENSP00000395574  \n",
       "2560093  ENSP00000296930-ENSP00000379181  \n",
       "\n",
       "[2560094 rows x 3 columns]"
      ]
     },
     "execution_count": 21,
     "metadata": {},
     "output_type": "execute_result"
    }
   ],
   "source": [
    "motif_edges_df"
   ]
  },
  {
   "cell_type": "code",
   "execution_count": 17,
   "metadata": {},
   "outputs": [],
   "source": [
    "for k, v in result_dict.items():\n",
    "    if v != []:\n",
    "        print(v)"
   ]
  },
  {
   "cell_type": "code",
   "execution_count": 79,
   "metadata": {},
   "outputs": [
    {
     "name": "stderr",
     "output_type": "stream",
     "text": [
      "  0%|          | 0/10 [00:00<?, ?it/s]"
     ]
    },
    {
     "name": "stderr",
     "output_type": "stream",
     "text": [
      "100%|██████████| 10/10 [01:10<00:00,  7.02s/it]\n"
     ]
    }
   ],
   "source": [
    "# permutation\n",
    "# 1\n",
    "n_permutation = 1000\n",
    "node_dict = node_df.node_name.to_dict()\n",
    "result_df = pd.DataFrame(index=motif_df.index)\n",
    "\n",
    "for i in tqdm(range(n_permutation)):\n",
    "    random_graph = nx.gnm_random_graph(n_nodes, n_edges)\n",
    "    random_graph = nx.relabel_nodes(random_graph, node_dict) # 重抓1-hop subgraph\n",
    "    random_one_hop_subgraph = nx.subgraph(random_graph, cancer_one_hop_set)\n",
    "    random_edge_df = pd.DataFrame(random_one_hop_subgraph.edges, columns=[\"src\", \"dst\"])\n",
    "    random_edge_df[\"edge\"] = random_edge_df.src + \"-\" + random_edge_df.dst \n",
    "    result_df[i] = motif_edges_df.isin(random_edge_df.edge.values).all(axis=1)\n",
    "    #exist_motifs_indices = motif_edges_df[motif_edges_df.isin(random_edge_df.edge.values).all(axis=1)].index\n",
    "    \n",
    "    #for j in exist_motifs_indices:\n",
    "    #    result_dict[j].append(i)\n",
    "    if i % 100 == 0:\n",
    "        result_df.to_csv(f\"output/motif_permutation/result{i}.csv\")\n",
    "        result_df = pd.DataFrame(index=motif_df.index)"
   ]
  },
  {
   "cell_type": "code",
   "execution_count": null,
   "metadata": {},
   "outputs": [],
   "source": [
    "# 3\n",
    "n_permutation = 10\n",
    "\n",
    "result_label_swap = result_df(n_permutation)\n",
    "for i in tqdm(range(n_permutation)):\n",
    "    is_cancer_protein = node_df.is_cancer_protein.values.copy()\n",
    "    np.random.shuffle(is_cancer_protein)\n",
    "    random_node_df = node_df.copy()\n",
    "    random_node_df.is_cancer_protein = is_cancer_protein\n",
    "    random_node_df[random_node_df.is_cancer_protein]\n",
    "    base_graph\n",
    "    result_label_swap.iloc[i, :] = cal_info(base_graph, random_sub_df)\n",
    "result_label_swap.to_csv(\"output/label_swap.csv\")"
   ]
  },
  {
   "cell_type": "code",
   "execution_count": 34,
   "metadata": {},
   "outputs": [
    {
     "data": {
      "text/plain": [
       "array([False, False, False, ..., False, False, False])"
      ]
     },
     "execution_count": 34,
     "metadata": {},
     "output_type": "execute_result"
    }
   ],
   "source": [
    "is_cancer_protein = node_df.is_cancer_protein.values.copy()\n",
    "np.random.shuffle(is_cancer_protein)\n",
    "is_cancer_protein"
   ]
  },
  {
   "cell_type": "code",
   "execution_count": 56,
   "metadata": {},
   "outputs": [
    {
     "data": {
      "text/html": [
       "<div>\n",
       "<style scoped>\n",
       "    .dataframe tbody tr th:only-of-type {\n",
       "        vertical-align: middle;\n",
       "    }\n",
       "\n",
       "    .dataframe tbody tr th {\n",
       "        vertical-align: top;\n",
       "    }\n",
       "\n",
       "    .dataframe thead th {\n",
       "        text-align: right;\n",
       "    }\n",
       "</style>\n",
       "<table border=\"1\" class=\"dataframe\">\n",
       "  <thead>\n",
       "    <tr style=\"text-align: right;\">\n",
       "      <th></th>\n",
       "      <th>0</th>\n",
       "      <th>1</th>\n",
       "      <th>2</th>\n",
       "      <th>3</th>\n",
       "      <th>4</th>\n",
       "      <th>5</th>\n",
       "      <th>6</th>\n",
       "      <th>7</th>\n",
       "      <th>8</th>\n",
       "      <th>9</th>\n",
       "    </tr>\n",
       "  </thead>\n",
       "  <tbody>\n",
       "    <tr>\n",
       "      <th>0</th>\n",
       "      <td>False</td>\n",
       "      <td>False</td>\n",
       "      <td>False</td>\n",
       "      <td>False</td>\n",
       "      <td>False</td>\n",
       "      <td>False</td>\n",
       "      <td>False</td>\n",
       "      <td>False</td>\n",
       "      <td>False</td>\n",
       "      <td>False</td>\n",
       "    </tr>\n",
       "    <tr>\n",
       "      <th>1</th>\n",
       "      <td>False</td>\n",
       "      <td>False</td>\n",
       "      <td>False</td>\n",
       "      <td>False</td>\n",
       "      <td>False</td>\n",
       "      <td>False</td>\n",
       "      <td>False</td>\n",
       "      <td>False</td>\n",
       "      <td>False</td>\n",
       "      <td>False</td>\n",
       "    </tr>\n",
       "    <tr>\n",
       "      <th>2</th>\n",
       "      <td>False</td>\n",
       "      <td>False</td>\n",
       "      <td>False</td>\n",
       "      <td>False</td>\n",
       "      <td>False</td>\n",
       "      <td>False</td>\n",
       "      <td>False</td>\n",
       "      <td>False</td>\n",
       "      <td>False</td>\n",
       "      <td>False</td>\n",
       "    </tr>\n",
       "    <tr>\n",
       "      <th>3</th>\n",
       "      <td>False</td>\n",
       "      <td>False</td>\n",
       "      <td>False</td>\n",
       "      <td>False</td>\n",
       "      <td>False</td>\n",
       "      <td>False</td>\n",
       "      <td>False</td>\n",
       "      <td>False</td>\n",
       "      <td>False</td>\n",
       "      <td>False</td>\n",
       "    </tr>\n",
       "    <tr>\n",
       "      <th>4</th>\n",
       "      <td>False</td>\n",
       "      <td>False</td>\n",
       "      <td>False</td>\n",
       "      <td>False</td>\n",
       "      <td>False</td>\n",
       "      <td>False</td>\n",
       "      <td>False</td>\n",
       "      <td>False</td>\n",
       "      <td>False</td>\n",
       "      <td>False</td>\n",
       "    </tr>\n",
       "    <tr>\n",
       "      <th>...</th>\n",
       "      <td>...</td>\n",
       "      <td>...</td>\n",
       "      <td>...</td>\n",
       "      <td>...</td>\n",
       "      <td>...</td>\n",
       "      <td>...</td>\n",
       "      <td>...</td>\n",
       "      <td>...</td>\n",
       "      <td>...</td>\n",
       "      <td>...</td>\n",
       "    </tr>\n",
       "    <tr>\n",
       "      <th>2554946</th>\n",
       "      <td>False</td>\n",
       "      <td>False</td>\n",
       "      <td>False</td>\n",
       "      <td>False</td>\n",
       "      <td>False</td>\n",
       "      <td>False</td>\n",
       "      <td>False</td>\n",
       "      <td>False</td>\n",
       "      <td>False</td>\n",
       "      <td>False</td>\n",
       "    </tr>\n",
       "    <tr>\n",
       "      <th>2554947</th>\n",
       "      <td>False</td>\n",
       "      <td>False</td>\n",
       "      <td>False</td>\n",
       "      <td>False</td>\n",
       "      <td>False</td>\n",
       "      <td>False</td>\n",
       "      <td>False</td>\n",
       "      <td>False</td>\n",
       "      <td>False</td>\n",
       "      <td>False</td>\n",
       "    </tr>\n",
       "    <tr>\n",
       "      <th>2554948</th>\n",
       "      <td>False</td>\n",
       "      <td>False</td>\n",
       "      <td>False</td>\n",
       "      <td>False</td>\n",
       "      <td>False</td>\n",
       "      <td>False</td>\n",
       "      <td>False</td>\n",
       "      <td>False</td>\n",
       "      <td>False</td>\n",
       "      <td>False</td>\n",
       "    </tr>\n",
       "    <tr>\n",
       "      <th>2554949</th>\n",
       "      <td>False</td>\n",
       "      <td>False</td>\n",
       "      <td>False</td>\n",
       "      <td>False</td>\n",
       "      <td>False</td>\n",
       "      <td>False</td>\n",
       "      <td>False</td>\n",
       "      <td>False</td>\n",
       "      <td>False</td>\n",
       "      <td>False</td>\n",
       "    </tr>\n",
       "    <tr>\n",
       "      <th>2554950</th>\n",
       "      <td>False</td>\n",
       "      <td>False</td>\n",
       "      <td>False</td>\n",
       "      <td>False</td>\n",
       "      <td>False</td>\n",
       "      <td>False</td>\n",
       "      <td>False</td>\n",
       "      <td>False</td>\n",
       "      <td>False</td>\n",
       "      <td>False</td>\n",
       "    </tr>\n",
       "  </tbody>\n",
       "</table>\n",
       "<p>2554951 rows × 10 columns</p>\n",
       "</div>"
      ],
      "text/plain": [
       "             0      1      2      3      4      5      6      7      8      9\n",
       "0        False  False  False  False  False  False  False  False  False  False\n",
       "1        False  False  False  False  False  False  False  False  False  False\n",
       "2        False  False  False  False  False  False  False  False  False  False\n",
       "3        False  False  False  False  False  False  False  False  False  False\n",
       "4        False  False  False  False  False  False  False  False  False  False\n",
       "...        ...    ...    ...    ...    ...    ...    ...    ...    ...    ...\n",
       "2554946  False  False  False  False  False  False  False  False  False  False\n",
       "2554947  False  False  False  False  False  False  False  False  False  False\n",
       "2554948  False  False  False  False  False  False  False  False  False  False\n",
       "2554949  False  False  False  False  False  False  False  False  False  False\n",
       "2554950  False  False  False  False  False  False  False  False  False  False\n",
       "\n",
       "[2554951 rows x 10 columns]"
      ]
     },
     "execution_count": 56,
     "metadata": {},
     "output_type": "execute_result"
    }
   ],
   "source": [
    "result_df = pd.DataFrame(index=motif_df.index)\n",
    "n_cancer_nodes = node_df.is_cancer_protein.sum()\n",
    "n_permutation = 10\n",
    "for i in range(n_permutation):\n",
    "    # 隨機挑n_cancer_nodes個當作是cancer gene\n",
    "    random_cancer_proteins = np.random.choice(node_df.node_name, \n",
    "                                             size=n_cancer_nodes, \n",
    "                                             replace=False)\n",
    "    # 找出one hop\n",
    "    random_cancer_one_hop_set = set()\n",
    "    for cancer_protein in cancer_proteins:\n",
    "        neighbors = set(dict(base_graph[cancer_protein]).keys())\n",
    "        random_cancer_one_hop_set = random_cancer_one_hop_set.union(neighbors)                       \n",
    "    random_one_hop_subgraph = base_graph.subgraph(random_cancer_one_hop_set)\n",
    "    random_edge_df = pd.DataFrame(random_one_hop_subgraph.edges, columns=[\"src\", \"dst\"])\n",
    "    random_edge_df[\"edge\"] = edges.src + \"-\" + edges.dst\n",
    "    result_df[i] = motif_edges_df.isin(random_edge_df.edge.values).all(axis=1)\n",
    "result_df"
   ]
  }
 ],
 "metadata": {
  "kernelspec": {
   "display_name": "bioinfo",
   "language": "python",
   "name": "python3"
  },
  "language_info": {
   "codemirror_mode": {
    "name": "ipython",
    "version": 3
   },
   "file_extension": ".py",
   "mimetype": "text/x-python",
   "name": "python",
   "nbconvert_exporter": "python",
   "pygments_lexer": "ipython3",
   "version": "3.10.13"
  }
 },
 "nbformat": 4,
 "nbformat_minor": 2
}
